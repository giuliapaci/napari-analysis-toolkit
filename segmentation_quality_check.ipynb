{
 "cells": [
  {
   "cell_type": "code",
   "execution_count": null,
   "id": "58927c4a-8f2c-4ee0-8987-698a5d838a6c",
   "metadata": {},
   "outputs": [],
   "source": [
    "import napari\n",
    "import pandas as pd\n",
    "from napari_skimage_regionprops import regionprops_table, add_table, get_table\n",
    "import numpy as np"
   ]
  },
  {
   "cell_type": "code",
   "execution_count": null,
   "id": "a6b74017-504b-429a-bf94-3aba18fc26ab",
   "metadata": {},
   "outputs": [],
   "source": [
    "'''\n",
    "Function to get IDs of cells present in a certain % planes \n",
    "can be used for example to pinpoint the best / fully segmented ones \n",
    "or the truncated ones that need correcting! \n",
    "'''\n",
    "\n",
    "def select_cells_by_integrity(z_planes, cells, percentage, analysis_type):\n",
    "    target_n_planes = round ((percentage / 100 ) * z_planes)\n",
    "    selected_cells = []\n",
    "    if analysis_type not in [\"good\",\"bad\"]:\n",
    "        raise ValueError('Invalid input. Please choose either \"good\" or \"bad\" cells.')\n",
    "    for i in range(0,len(cells)):\n",
    "        if analysis_type == 'good' and cells[i][1] >= target_n_planes:\n",
    "                selected_cells.append(cells[i])\n",
    "        elif analysis_type == 'bad' and cells[i][1] <= target_n_planes:\n",
    "                selected_cells.append(cells[i])\n",
    "    return selected_cells\n",
    "\n",
    "# function to filter labels based on a list of label ids one wants to keep (one frame)\n",
    "def select_labels_oneframe(input_labels, ids_to_keep):\n",
    "    mask = np.isin(input_labels, ids_to_keep)\n",
    "    selected_labels = np.where(mask, input_labels, 0)\n",
    "    return selected_labels\n",
    "\n",
    "# function to filter labels based on a list of label ids one wants to keep (for a stack/movie)\n",
    "def select_labels_stack(input_labels, ids_to_keep):\n",
    "    picked_labels = []\n",
    "    for i in range(0,len(input_labels.data)):\n",
    "        current_frame = (input_labels.data[i])\n",
    "        picked_labels.append(select_labels_oneframe(current_frame, ids_to_keep)) \n",
    "    return picked_labels\n"
   ]
  },
  {
   "cell_type": "code",
   "execution_count": null,
   "id": "269b6818-11e7-4404-b582-54e22bb794c1",
   "metadata": {},
   "outputs": [],
   "source": [
    "viewer = napari.Viewer()"
   ]
  },
  {
   "cell_type": "markdown",
   "id": "136161f9-9d8e-406f-89bf-f3d58243d7bf",
   "metadata": {},
   "source": [
    "***\n",
    "In the Napari viewer, open the image + segmented data to evaluate, convert to 2D timelapse and then use the \"regionprops of all frames\" plugin to get the output table\\\n",
    "Usually there will be two layers open: the labels layer as top layer and the image/data layer below\n",
    "***"
   ]
  },
  {
   "cell_type": "code",
   "execution_count": null,
   "id": "8c619872-6ca3-457c-9125-d1eac01b244a",
   "metadata": {
    "scrolled": true
   },
   "outputs": [],
   "source": [
    "# Get the regionprops table, associated to the labels layer\n",
    "labels = viewer.layers[1]\n",
    "table = get_table(labels, viewer)\n",
    "\n",
    "# read the content from the table as a dictionary. It is recommended to convert it into a pandas DataFrame:\n",
    "regionprops_output = pd.DataFrame(table.get_content())\n",
    "\n",
    "# count the number of frames in which each label (cell) appears and create array with [label, count]\n",
    "labels = regionprops_output['label']\n",
    "labels_nframes=[]\n",
    "for i in range(0,regionprops_output['label'].nunique()):\n",
    "    labels_nframes.append([regionprops_output['label'][i],len(regionprops_output[regionprops_output['label']==regionprops_output['label'][i]].frame)])"
   ]
  },
  {
   "cell_type": "code",
   "execution_count": null,
   "id": "7a26f095-bff8-4bd9-b81c-a6f30d99f132",
   "metadata": {},
   "outputs": [],
   "source": [
    "# extract both \"good\" (present in at least 85% planes) and \"bad\" (present in fewer than 15% planes) cell labels  \n",
    "labels_layer = viewer.layers[1]\n",
    "image_layer = viewer.layers[0]\n",
    "\n",
    "good_cells = select_cells_by_integrity(len(image_layer.data), labels_nframes, 85, 'good')\n",
    "good_ids = [x[0] for x in good_cells]\n",
    "good_labels = select_labels_stack(labels_layer, good_ids)\n",
    "\n",
    "bad_cells = select_cells_by_integrity(len(image_layer.data), labels_nframes, 15, 'bad')\n",
    "bad_ids = [x[0] for x in bad_cells]\n",
    "bad_labels = select_labels_stack(labels_layer, bad_ids)\n",
    "\n",
    "print('Percentage of \"good\" labels in dataset =',round((len(good_cells)/len(labels_nframes))*100,1),'%')\n",
    "print('Percentage of \"bad\" labels in dataset =',round((len(bad_cells)/len(labels_nframes))*100,1),'%')"
   ]
  },
  {
   "cell_type": "code",
   "execution_count": null,
   "id": "99179036-2b9a-4981-8287-24aab66a0581",
   "metadata": {},
   "outputs": [],
   "source": [
    "# add the new labels to the viewer\n",
    "viewer.add_labels((np.array(good_labels)), name='good cells')\n",
    "viewer.add_labels((np.array(bad_labels)), name='bad cells')"
   ]
  },
  {
   "cell_type": "code",
   "execution_count": null,
   "id": "40deb9ad-edc6-44d1-96fe-d7735c165f88",
   "metadata": {},
   "outputs": [],
   "source": [
    "# Note: if labels need to be 3D instead of timelapse they can be reshaped\n",
    "label = good_labels\n",
    "label_3d = np.reshape(label, (label.shape[1], label.shape[0], label.shape[2], label.shape[3])) "
   ]
  }
 ],
 "metadata": {
  "kernelspec": {
   "display_name": "Python 3 (ipykernel)",
   "language": "python",
   "name": "python3"
  },
  "language_info": {
   "codemirror_mode": {
    "name": "ipython",
    "version": 3
   },
   "file_extension": ".py",
   "mimetype": "text/x-python",
   "name": "python",
   "nbconvert_exporter": "python",
   "pygments_lexer": "ipython3",
   "version": "3.11.4"
  }
 },
 "nbformat": 4,
 "nbformat_minor": 5
}
